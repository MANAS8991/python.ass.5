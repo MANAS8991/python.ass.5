{
 "cells": [
  {
   "cell_type": "markdown",
   "id": "eed03627",
   "metadata": {},
   "source": [
    "# 1. What does an empty dictionary's code look like?"
   ]
  },
  {
   "cell_type": "raw",
   "id": "1aa8ce2d",
   "metadata": {},
   "source": [
    "An empty dictionary in Python is represented by a pair of curly braces {} with no key-value pairs inside. Here's an example:\n",
    "my_dict = {}\n",
    "\n",
    "In this code, my_dict is initialized as an empty dictionary. It has no key-value pairs and is ready to be populated with data."
   ]
  },
  {
   "cell_type": "markdown",
   "id": "67a09d8b",
   "metadata": {},
   "source": [
    "# 2. What is the value of a dictionary value with the key 'foo' and the value 42?"
   ]
  },
  {
   "cell_type": "code",
   "execution_count": null,
   "id": "c2a394a6",
   "metadata": {},
   "outputs": [],
   "source": [
    "The value of a dictionary with the key 'foo' and the value 42 would be 42. In a dictionary, values are associated with keys, allowing you to retrieve the corresponding value by referencing the key.\n",
    "\n",
    "Here's an example of creating a dictionary with the key 'foo' and the value 42:\n",
    "\n",
    "my_dict = {'foo': 42}\n",
    "\n",
    "In this code, my_dict is a dictionary with a single key-value pair. The key 'foo' is associated with the value 42. To access the value '42' from the dictionary, you can use the key 'foo' as follows:\n",
    "    \n",
    "value = my_dict['foo']\n",
    "After executing this code, the variable value will be assigned the value 42, which corresponds to the key 'foo' in the dictionary.\n",
    "\n"
   ]
  },
  {
   "cell_type": "markdown",
   "id": "f77fcce0",
   "metadata": {},
   "source": [
    "# 3. What is the most significant distinction between a dictionary and a list?"
   ]
  },
  {
   "cell_type": "code",
   "execution_count": null,
   "id": "3af379c9",
   "metadata": {},
   "outputs": [],
   "source": [
    "1-Storage of Values:\n",
    "\n",
    "Dictionary: A dictionary stores values as key-value pairs. Each value in a dictionary is associated with a unique key, allowing for efficient retrieval of values based on their corresponding keys. Keys in a dictionary must be immutable objects (such as strings, numbers, or tuples), and they provide a way to uniquely identify and access the associated values.\n",
    "List: A list stores values as an ordered sequence. The elements in a list are indexed based on their position, starting from 0. Each element can be accessed by its index, allowing for positional retrieval of values. Lists are mutable, meaning elements can be modified, added, or removed.\n",
    "\n",
    "2-Accessing Values:\n",
    "\n",
    "Dictionary: Values in a dictionary are accessed using their corresponding keys. Instead of using an index, you specify the key within square brackets to retrieve the associated value.\n",
    "List: Values in a list are accessed using their indices. You can specify the index within square brackets to retrieve the value at that position in the list.\n",
    "\n",
    "3-Ordering:\n",
    "\n",
    "Dictionary: Dictionaries are unordered collections in Python versions before 3.7. Starting from Python 3.7, dictionaries maintain the order of insertion. However, the primary purpose of dictionaries is not to preserve order but to provide efficient key-based lookups.\n",
    "List: Lists are ordered collections, meaning the order of elements is preserved. The position of an element in the list determines its order.\n",
    "\n",
    "4-Purpose:\n",
    "\n",
    "Dictionary: Dictionaries are typically used when you want to associate values with unique keys. They are useful for mapping, lookups, and when you need to quickly access values based on specific keys.\n",
    "List: Lists are more general-purpose and used when you need to store an ordered collection of elements. They are suitable for scenarios where the order of elements matters, and you may need to perform operations like appending, inserting, or removing elements."
   ]
  },
  {
   "cell_type": "markdown",
   "id": "b7a5c440",
   "metadata": {},
   "source": [
    "# 4. What happens if you try to access spam['foo'] if spam is {'bar': 100}?"
   ]
  },
  {
   "cell_type": "raw",
   "id": "b5f43630",
   "metadata": {},
   "source": [
    "If you try to access spam['foo'] and spam is { 'bar': 100 }, you will encounter a KeyError.\n",
    "\n",
    "In Python dictionaries, when you attempt to access a value using a key that does not exist in the dictionary, a KeyError is raised. The KeyError indicates that the specified key is not present in the dictionary, and therefore, you cannot retrieve a corresponding value.\n",
    "\n",
    "In the given example, the dictionary spam has a single key 'bar' with the associated value 100. If you try to access spam['foo'], where 'foo' is not a key in the dictionary, Python will raise a KeyError because the key 'foo' does not exist in the dictionary.\n",
    "\n",
    "To avoid the KeyError, you should ensure that you are accessing dictionary values using existing keys or check the existence of a key using the in operator before accessing it. For example:\n",
    "    \n",
    "spam = { 'bar': 100 }\n",
    "\n",
    "if 'foo' in spam:\n",
    "    value = spam['foo']\n",
    "else:\n",
    "    value = None\n",
    "\n",
    " In this code, the if statement checks if the key 'foo' exists in the spam dictionary before attempting to access it. If the key exists, the corresponding value is assigned to value. Otherwise, value is set to None or any other default value of your choice.  \n"
   ]
  },
  {
   "cell_type": "markdown",
   "id": "f764299e",
   "metadata": {},
   "source": [
    "# 5. If a dictionary is stored in spam, what is the difference between the expressions 'cat' in spam and 'cat' in spam.keys()?"
   ]
  },
  {
   "cell_type": "raw",
   "id": "4c95467d",
   "metadata": {},
   "source": [
    "1- 'cat' in spam:\n",
    "This expression checks whether the string 'cat' exists as a key in the dictionary spam. It returns a boolean value True if the key 'cat' is present in spam, and False otherwise. This check verifies the presence of the key directly within the dictionary.\n",
    "\n",
    "2- 'cat' in spam.keys():\n",
    "This expression checks whether the string 'cat' exists as a key in the dictionary spam by accessing the dictionary's keys() method. The keys() method returns a view object containing all the keys in the dictionary. The expression checks if 'cat' is present in this view object, returning True if it is, and False otherwise.\n",
    "Difference:\n",
    "Using 'cat' in spam directly checks for the key's existence within the dictionary, which is typically faster. It directly accesses the dictionary's internal data structure to perform the lookup.\n",
    "\n",
    "Using 'cat' in spam.keys() retrieves a view object of all the keys in the dictionary and then performs the membership check. This approach involves an additional step of creating the view object, which may have a slight performance overhead, especially for large dictionaries."
   ]
  },
  {
   "cell_type": "markdown",
   "id": "46f8c5e9",
   "metadata": {},
   "source": [
    "# 6. If a dictionary is stored in spam, what is the difference between the expressions 'cat' in spam and 'cat' in spam.values()?"
   ]
  },
  {
   "cell_type": "raw",
   "id": "51e1d341",
   "metadata": {},
   "source": [
    "1- 'cat' in spam:\n",
    "This expression checks whether the string 'cat' exists as a key in the dictionary spam. It returns True if the key 'cat' is present in spam as a key, and False otherwise. It verifies the presence of the key directly within the dictionary.\n",
    "\n",
    "2- 'cat' in spam.values():\n",
    "This expression checks whether the string 'cat' exists as a value in the dictionary spam. It returns True if the value 'cat' is present in spam as a value associated with any of the keys, and False otherwise. It verifies the presence of the value within the dictionary's values."
   ]
  },
  {
   "cell_type": "markdown",
   "id": "55868cd9",
   "metadata": {},
   "source": [
    "# 7. What is a shortcut for the following code?\n",
    "# if 'color' not in spam:\n",
    "# spam['color'] = 'black'"
   ]
  },
  {
   "cell_type": "raw",
   "id": "12117175",
   "metadata": {},
   "source": [
    "A shortcut for the given code is to use the dict.setdefault() method.\n",
    "\n",
    "spam.setdefault('color', 'black')\n",
    "\n",
    "This single line of code achieves the same result as the original code. It checks if the key 'color' is already present in the spam dictionary. If the key is not found, it adds the key-value pair 'color': 'black' to the dictionary. If the key is already present, it does not modify the dictionary."
   ]
  },
  {
   "cell_type": "markdown",
   "id": "dd546662",
   "metadata": {},
   "source": [
    "# 8. How do you \"pretty print\" dictionary values using which module and function?"
   ]
  },
  {
   "cell_type": "code",
   "execution_count": null,
   "id": "324f180e",
   "metadata": {},
   "outputs": [],
   "source": [
    "To \"pretty print\" dictionary values in a more readable and structured format, you can use the pprint module and its pprint() function in Python.\n",
    "Import the pprint module:\n",
    "import pprint\n",
    "\n",
    "Use the pprint() function to pretty print the dictionary:\n",
    "my_dict = {'key1': 'value1', 'key2': 'value2', 'key3': 'value3'}\n",
    "pprint.pprint(my_dict)\n",
    "\n",
    "The pprint() function from the pprint module formats and prints the dictionary in a visually pleasing way. It ensures that the output is well-structured, with indentation and line breaks to improve readability.\n"
   ]
  }
 ],
 "metadata": {
  "kernelspec": {
   "display_name": "Python 3 (ipykernel)",
   "language": "python",
   "name": "python3"
  },
  "language_info": {
   "codemirror_mode": {
    "name": "ipython",
    "version": 3
   },
   "file_extension": ".py",
   "mimetype": "text/x-python",
   "name": "python",
   "nbconvert_exporter": "python",
   "pygments_lexer": "ipython3",
   "version": "3.9.12"
  }
 },
 "nbformat": 4,
 "nbformat_minor": 5
}
